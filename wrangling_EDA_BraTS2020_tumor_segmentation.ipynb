{
  "nbformat": 4,
  "nbformat_minor": 0,
  "metadata": {
    "colab": {
      "name": "wrangling_EDA_BraTS2020_tumor_segmentation.ipynb",
      "provenance": [],
      "authorship_tag": "ABX9TyNMQEtXNwyA2cUVNxy0KO4F",
      "include_colab_link": true
    },
    "kernelspec": {
      "name": "python3",
      "display_name": "Python 3"
    },
    "language_info": {
      "name": "python"
    }
  },
  "cells": [
    {
      "cell_type": "markdown",
      "metadata": {
        "id": "view-in-github",
        "colab_type": "text"
      },
      "source": [
        "<a href=\"https://colab.research.google.com/github/parkjlearning/braintumorsegmentation/blob/master/wrangling_EDA_BraTS2020_tumor_segmentation.ipynb\" target=\"_parent\"><img src=\"https://colab.research.google.com/assets/colab-badge.svg\" alt=\"Open In Colab\"/></a>"
      ]
    },
    {
      "cell_type": "markdown",
      "source": [
        "# **Brain tumor segmentation problem definition**\n",
        "\n",
        "**Segmentation of glioma in pre-operative MRI scans.**  \n",
        "(*Glioma is a common type of tumor originating in the brain comprising about 33% of all brain tumors.*) \n",
        "\n",
        "*Each pixel on image must be labeled:*\n",
        "* Pixel is part of a tumor area (1 or 2 or 3), and can be one of multiple classes / sug-regions. \n",
        "* If a pixel is not on a tumor region (0). \n",
        "* The subregions of tumor considered for evaluation are: 1) the \"enhancing tumor\" (ET), 2) the \"tumor core\" (TC), and 3) the \"whole tumor\" (WT).  \n",
        "* The provided segmentation labels have values of 1 for NCR & NET, 2 for ED, 4 for ET, and 0 for everything else. \n"
      ],
      "metadata": {
        "id": "aTf5xbLtlcrT"
      }
    },
    {
      "cell_type": "markdown",
      "source": [
        ""
      ],
      "metadata": {
        "id": "ROvcId_glZIX"
      }
    }
  ]
}